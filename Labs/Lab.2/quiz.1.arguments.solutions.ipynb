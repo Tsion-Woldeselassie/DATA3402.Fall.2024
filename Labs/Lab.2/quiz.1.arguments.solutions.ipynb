{
 "cells": [
  {
   "cell_type": "markdown",
   "id": "e0a0db52-fbc8-4293-b9a9-faf609167fea",
   "metadata": {},
   "source": [
    "Quick Quiz: Function Argument Handling"
   ]
  },
  {
   "cell_type": "markdown",
   "id": "63855c91-4074-435c-9935-c48469eaaf32",
   "metadata": {},
   "source": [
    "Question:\n",
    "Can you rewrite `create_new_args` as two lines of code using functional programming, list comprehensions, and shortcuts? How about a single line?"
   ]
  },
  {
   "cell_type": "markdown",
   "id": "9206b1bc-0ea8-45f0-806e-568c302fca1c",
   "metadata": {},
   "source": [
    "Two-Line Version"
   ]
  },
  {
   "cell_type": "code",
   "execution_count": 1,
   "id": "100300cd-d2b5-40c7-a1aa-8ce1f45c4d78",
   "metadata": {},
   "outputs": [],
   "source": [
    "def create_new_args_0(args):\n",
    "    max_len = max(map(len, filter(lambda x: isinstance(x, list), args)))\n",
    "    return [[a] * max_len if not isinstance(a, list) else a if len(a) == max_len else print(\"Error: all list arguments must have same length.\") for a in args]\n"
   ]
  },
  {
   "cell_type": "markdown",
   "id": "cae42e4e-ec15-47b6-8df4-157ad2f8bd74",
   "metadata": {},
   "source": [
    "Explanation:\n",
    "This function first calculates the maximum length of all list arguments then creates new arguments for non-lists by repeating their values. If lists don't match the max length, it returns an error.\n"
   ]
  },
  {
   "cell_type": "markdown",
   "id": "b75ef28b-9d46-4f76-803f-6944454b97fd",
   "metadata": {},
   "source": [
    "Single-Line Version"
   ]
  },
  {
   "cell_type": "code",
   "execution_count": 2,
   "id": "7aae837e-8560-4b08-a53c-3528e7d132c8",
   "metadata": {},
   "outputs": [],
   "source": [
    "create_new_args_0 = lambda args: [[a]*max_len if not isinstance(a,list) else a if len(a) == max_len else print(\"Error: all list arguments must have same length.\") for a in args] if (max_len := max(map(len, filter(lambda x: isinstance(x, list), args)))) else None\n"
   ]
  },
  {
   "cell_type": "markdown",
   "id": "45db3819-2e9a-4ffa-af75-5fa5b9b4f27c",
   "metadata": {},
   "source": [
    "Explanation:\n",
    "This single-line function uses a lambda function with list comprehensions. It calculates the max length of list arguments, then repeats non-list values to match this length, and returns an error for mismatched lists.\n"
   ]
  },
  {
   "cell_type": "code",
   "execution_count": 4,
   "id": "3c8f9e5e-792c-4895-a388-42342fa645f4",
   "metadata": {},
   "outputs": [
    {
     "name": "stdout",
     "output_type": "stream",
     "text": [
      "[[1, 2], [3, 4], [5, 5]]\n",
      "Error: all list arguments must have same length.\n",
      "[None, [3, 4, 5], [5, 5, 5]]\n",
      "[[1, 2], [3, 4], [5, 5]]\n",
      "Error: all list arguments must have same length.\n",
      "[None, [3, 4, 5], [5, 5, 5]]\n"
     ]
    }
   ],
   "source": [
    "# Testing the two-line version\n",
    "print(create_new_args_0([[1, 2], [3, 4], 5])) \n",
    "print(create_new_args_0([[1, 2], [3, 4, 5], 5]))  \n",
    "\n",
    "# Testing the single-line version\n",
    "print(create_new_args_0([[1, 2], [3, 4], 5])) \n",
    "print(create_new_args_0([[1, 2], [3, 4, 5], 5])) \n"
   ]
  },
  {
   "cell_type": "code",
   "execution_count": null,
   "id": "aa1e8a95-ab09-4c43-8c61-44beda56f8e3",
   "metadata": {},
   "outputs": [],
   "source": []
  }
 ],
 "metadata": {
  "kernelspec": {
   "display_name": "Python 3 (ipykernel)",
   "language": "python",
   "name": "python3"
  },
  "language_info": {
   "codemirror_mode": {
    "name": "ipython",
    "version": 3
   },
   "file_extension": ".py",
   "mimetype": "text/x-python",
   "name": "python",
   "nbconvert_exporter": "python",
   "pygments_lexer": "ipython3",
   "version": "3.10.12"
  }
 },
 "nbformat": 4,
 "nbformat_minor": 5
}
