{
 "cells": [
  {
   "cell_type": "markdown",
   "metadata": {},
   "source": [
    "## Lab 2- Tic Tac Toe\n",
    "\n",
    "In this lab your will build a n x n Tic Tac Toe game. As you do the exercises, make sure your solutions work for any size Tic Tac Toe game. "
   ]
  },
  {
   "cell_type": "markdown",
   "metadata": {},
   "source": [
    "*Exercise 1:* Write a function that creates an n by n matrix (of list of lists) which will represent the state of a Tie Tac Toe game. Let 0, 1, and 2 represent empty, \"X\", and \"O\", respectively.\n"
   ]
  },
  {
   "cell_type": "code",
   "execution_count": 30,
   "metadata": {},
   "outputs": [
    {
     "name": "stdout",
     "output_type": "stream",
     "text": [
      "[0, 0, 0]\n",
      "[0, 0, 0]\n",
      "[0, 0, 0]\n"
     ]
    }
   ],
   "source": [
    "def create_board(n=3): \n",
    "    return [[0 for _ in range(n)] for _ in range(n)]\n",
    "\n",
    "# Testing solution\n",
    "board = create_board() \n",
    "for row in board: \n",
    "    print(row)\n"
   ]
  },
  {
   "cell_type": "markdown",
   "metadata": {},
   "source": [
    "*Exercise 2:* Write a function that takes 2 integers `n` and `m` as input and draws a `n` by `m` game board. For example the following is a 3x3 board:\n",
    "```\n",
    "   --- --- --- \n",
    "  |   |   |   | \n",
    "   --- --- ---  \n",
    "  |   |   |   | \n",
    "   --- --- ---  \n",
    "  |   |   |   | \n",
    "   --- --- --- \n",
    "   ```"
   ]
  },
  {
   "cell_type": "code",
   "execution_count": 31,
   "metadata": {},
   "outputs": [
    {
     "name": "stdout",
     "output_type": "stream",
     "text": [
      " --- --- ---\n",
      "|   |   |   |   \n",
      " --- --- ---\n",
      "|   |   |   |   \n",
      " --- --- ---\n",
      "|   |   |   |   \n",
      " --- --- ---\n"
     ]
    }
   ],
   "source": [
    "def draw_game_board(n, m):\n",
    "    for i in range(n):\n",
    "        print(\" ---\" * m)\n",
    "        print(\"|   \" * (m + 1))\n",
    "    print(\" ---\" * m)\n",
    "\n",
    "n = 3\n",
    "m = 3\n",
    "draw_game_board(n, m)\n"
   ]
  },
  {
   "cell_type": "markdown",
   "metadata": {},
   "source": [
    "*Exercise 3:* Modify exercise 2, so that it takes a matrix of the form from exercise 1 and draws a tic-tac-tie board with \"X\"s and \"O\"s.  "
   ]
  },
  {
   "cell_type": "code",
   "execution_count": 32,
   "metadata": {},
   "outputs": [
    {
     "name": "stdout",
     "output_type": "stream",
     "text": [
      " --- --- ---\n",
      "| X | O |   | \n",
      " --- --- ---\n",
      "| O | X |   | \n",
      " --- --- ---\n",
      "|   | X | O | \n",
      " --- --- ---\n"
     ]
    }
   ],
   "source": [
    "def draw_tic_tac_toe(board):\n",
    "    symbols = {0: ' ', 1: 'X', 2: 'O'}\n",
    "    n = len(board)\n",
    "    for i in range(n):\n",
    "        print(\" ---\" * n)\n",
    "        row = '| '\n",
    "        for j in range(n):\n",
    "            row += symbols[board[i][j]] + ' | '\n",
    "        print(row)\n",
    "    print(\" ---\" * n)\n",
    "\n",
    "# Testing solution\n",
    "test_board = [[1, 2, 0],\n",
    "              [2, 1, 0],\n",
    "              [0, 1, 2]]\n",
    "draw_tic_tac_toe(test_board)\n"
   ]
  },
  {
   "cell_type": "markdown",
   "metadata": {},
   "source": [
    "*Exercise 4:* Write a function that takes a `n` by `n` matrix representing a tic-tac-toe game, and returns -1, 0, 1, or 2 indicating the game is incomplete, the game is a draw, player 1 has won, or player 2 has one, respectively. Here are some example inputs you can use to test your code:"
   ]
  },
  {
   "cell_type": "code",
   "execution_count": 15,
   "metadata": {},
   "outputs": [],
   "source": [
    "winner_is_2 = [[2, 2, 0],\n",
    "\t[2, 1, 0],\n",
    "\t[2, 1, 1]]\n",
    "\n",
    "winner_is_1 = [[1, 2, 0],\n",
    "\t[2, 1, 0],\n",
    "\t[2, 1, 1]]\n",
    "\n",
    "winner_is_also_1 = [[0, 1, 0],\n",
    "\t[2, 1, 0],\n",
    "\t[2, 1, 1]]\n",
    "\n",
    "no_winner = [[1, 2, 0],\n",
    "\t[2, 1, 0],\n",
    "\t[2, 1, 2]]\n",
    "\n",
    "also_no_winner = [[1, 2, 0],\n",
    "\t[2, 1, 0],\n",
    "\t[2, 1, 0]]"
   ]
  },
  {
   "cell_type": "code",
   "execution_count": 34,
   "metadata": {},
   "outputs": [
    {
     "name": "stdout",
     "output_type": "stream",
     "text": [
      "Test 1 - Player 2 wins: 2\n",
      "Test 2 - Player 1 wins: 1\n",
      "Test 3 - Player 1 wins: 1\n",
      "Test 4 - Game is a draw: 0\n",
      "Test 5 - Game is incomplete: -1\n"
     ]
    }
   ],
   "source": [
    "def check_winner(board):\n",
    "    n = len(board)\n",
    "    \n",
    "    for i in range(n):\n",
    "        if all(board[i][j] == 1 for j in range(n)): \n",
    "            return 1\n",
    "        if all(board[i][j] == 2 for j in range(n)):  \n",
    "            return 2\n",
    "        if all(board[j][i] == 1 for j in range(n)): \n",
    "            return 1\n",
    "        if all(board[j][i] == 2 for j in range(n)): \n",
    "            return 2\n",
    "    \n",
    "    if all(board[i][i] == 1 for i in range(n)) or all(board[i][n-i-1] == 1 for i in range(n)):\n",
    "        return 1\n",
    "    if all(board[i][i] == 2 for i in range(n)) or all(board[i][n-i-1] == 2 for i in range(n)):\n",
    "        return 2\n",
    "    \n",
    "    if any(0 in row for row in board):\n",
    "        return -1  \n",
    "    \n",
    "    return 0\n",
    "\n",
    "# Testing solution\n",
    "def test_check_winner():\n",
    "    \n",
    "    winner_is_2 = [[2, 2, 0],\n",
    "                   [2, 1, 0],\n",
    "                   [2, 1, 1]]\n",
    "    print(\"Test 1 - Player 2 wins:\", check_winner(winner_is_2))  \n",
    "    \n",
    "    winner_is_1 = [[1, 2, 0],\n",
    "                   [2, 1, 0],\n",
    "                   [2, 1, 1]]\n",
    "    print(\"Test 2 - Player 1 wins:\", check_winner(winner_is_1)) \n",
    "\n",
    "    winner_is_also_1 = [[0, 1, 0],\n",
    "                        [2, 1, 0],\n",
    "                        [2, 1, 1]]\n",
    "    print(\"Test 3 - Player 1 wins:\", check_winner(winner_is_also_1))\n",
    "\n",
    "    no_winner = [[1, 2, 1],\n",
    "                 [2, 1, 2],\n",
    "                 [2, 1, 2]]\n",
    "    print(\"Test 4 - Game is a draw:\", check_winner(no_winner))  \n",
    "\n",
    "    incomplete_game = [[1, 2, 0],\n",
    "                       [2, 1, 0],\n",
    "                       [0, 1, 2]]\n",
    "    print(\"Test 5 - Game is incomplete:\", check_winner(incomplete_game))  \n",
    "\n",
    "test_check_winner()"
   ]
  },
  {
   "cell_type": "markdown",
   "metadata": {},
   "source": [
    "*Exercise 5:* Write a function that takes a game board, player number, and `(x,y)` coordinates and places \"X\" or \"O\" in the correct location of the game board. Make sure that you only allow filling previously empty locations. Return `True` or `False` to indicate successful placement of \"X\" or \"O\"."
   ]
  },
  {
   "cell_type": "code",
   "execution_count": 35,
   "metadata": {},
   "outputs": [
    {
     "name": "stdout",
     "output_type": "stream",
     "text": [
      "True\n",
      " --- --- ---\n",
      "| X |   |   | \n",
      " --- --- ---\n",
      "|   |   |   | \n",
      " --- --- ---\n",
      "|   |   |   | \n",
      " --- --- ---\n"
     ]
    }
   ],
   "source": [
    "def place_mark(board, player, x, y):\n",
    "    if board[x][y] == 0:\n",
    "        board[x][y] = player\n",
    "        return True\n",
    "    return False\n",
    "\n",
    "# Testing solution\n",
    "board = create_board(3)\n",
    "print(place_mark(board, 1, 0, 0)) \n",
    "draw_tic_tac_toe(board)\n"
   ]
  },
  {
   "cell_type": "markdown",
   "metadata": {},
   "source": [
    "*Exercise 6:* Modify Exercise 3 to show column and row labels so that players can specify location using \"A2\" or \"C1\"."
   ]
  },
  {
   "cell_type": "code",
   "execution_count": 20,
   "metadata": {},
   "outputs": [
    {
     "name": "stdout",
     "output_type": "stream",
     "text": [
      "   A   B   C\n",
      "   --- --- ---\n",
      "1 | X | O |   | \n",
      "   --- --- ---\n",
      "2 | O | X |   | \n",
      "   --- --- ---\n",
      "3 |   | X | O | \n",
      "   --- --- ---\n"
     ]
    }
   ],
   "source": [
    "def draw_board_with_labels(board):\n",
    "    symbols = {0: ' ', 1: 'X', 2: 'O'}\n",
    "    n = len(board)\n",
    "    \n",
    "    print('   ' + '   '.join(chr(65 + i) for i in range(n)))\n",
    "    \n",
    "    for i in range(n):\n",
    "        print(\"  \" + \" ---\" * n)\n",
    "        row = str(i + 1) + ' | '\n",
    "        for j in range(n):\n",
    "            row += symbols[board[i][j]] + ' | '\n",
    "        print(row)\n",
    "    print(\"  \" + \" ---\" * n)\n",
    "\n",
    "# Testing solution\n",
    "draw_board_with_labels(test_board)\n"
   ]
  },
  {
   "cell_type": "markdown",
   "metadata": {},
   "source": [
    "*Exercise 7:* Write a function that takes a board, player number, and location specified as in exercise 6 and then calls exercise 5 to correctly modify the board.  "
   ]
  },
  {
   "cell_type": "code",
   "execution_count": 21,
   "metadata": {},
   "outputs": [
    {
     "name": "stdout",
     "output_type": "stream",
     "text": [
      "False\n",
      "   A   B   C\n",
      "   --- --- ---\n",
      "1 | X |   |   | \n",
      "   --- --- ---\n",
      "2 |   |   |   | \n",
      "   --- --- ---\n",
      "3 |   |   |   | \n",
      "   --- --- ---\n"
     ]
    }
   ],
   "source": [
    "def place_mark_with_labels(board, player, location):\n",
    "    row = int(location[1]) - 1\n",
    "    col = ord(location[0].upper()) - 65\n",
    "    return place_mark(board, player, row, col)\n",
    "\n",
    "# Testing solution\n",
    "print(place_mark_with_labels(board, 1, \"A1\"))\n",
    "draw_board_with_labels(board)\n"
   ]
  },
  {
   "cell_type": "markdown",
   "metadata": {},
   "source": [
    "*Exercise 8:* Write a function is called with a board and player number, takes input from the player using python's `input`, and modifies the board using your function from exercise 7. Note that you should keep asking for input until you have gotten a valid input that results in a valid move."
   ]
  },
  {
   "cell_type": "code",
   "execution_count": 22,
   "metadata": {},
   "outputs": [
    {
     "name": "stdin",
     "output_type": "stream",
     "text": [
      "Player 1, enter your move (e.g., A1):  A1\n"
     ]
    },
    {
     "name": "stdout",
     "output_type": "stream",
     "text": [
      "Invalid move, try again.\n"
     ]
    },
    {
     "name": "stdin",
     "output_type": "stream",
     "text": [
      "Player 1, enter your move (e.g., A1):  B1\n"
     ]
    },
    {
     "name": "stdout",
     "output_type": "stream",
     "text": [
      "   A   B   C\n",
      "   --- --- ---\n",
      "1 | X | X |   | \n",
      "   --- --- ---\n",
      "2 |   |   |   | \n",
      "   --- --- ---\n",
      "3 |   |   |   | \n",
      "   --- --- ---\n"
     ]
    }
   ],
   "source": [
    "def get_player_move(board, player):\n",
    "    while True:\n",
    "        location = input(f\"Player {player}, enter your move (e.g., A1): \")\n",
    "        if place_mark_with_labels(board, player, location):\n",
    "            return\n",
    "        else:\n",
    "            print(\"Invalid move, try again.\")\n",
    "\n",
    "# Testing solution\n",
    "get_player_move(board, 1)\n",
    "draw_board_with_labels(board)\n"
   ]
  },
  {
   "cell_type": "markdown",
   "metadata": {},
   "source": [
    "*Exercise 9:* Use all of the previous exercises to implement a full tic-tac-toe game, where an appropriate board is drawn, 2 players are repeatedly asked for a location coordinates of where they wish to place a mark, and the game status is checked until a player wins or a draw occurs."
   ]
  },
  {
   "cell_type": "code",
   "execution_count": 23,
   "metadata": {},
   "outputs": [
    {
     "name": "stdout",
     "output_type": "stream",
     "text": [
      "   A   B   C\n",
      "   --- --- ---\n",
      "1 |   |   |   | \n",
      "   --- --- ---\n",
      "2 |   |   |   | \n",
      "   --- --- ---\n",
      "3 |   |   |   | \n",
      "   --- --- ---\n"
     ]
    },
    {
     "name": "stdin",
     "output_type": "stream",
     "text": [
      "Player 1, enter your move (e.g., A1):  A1\n"
     ]
    },
    {
     "name": "stdout",
     "output_type": "stream",
     "text": [
      "   A   B   C\n",
      "   --- --- ---\n",
      "1 | X |   |   | \n",
      "   --- --- ---\n",
      "2 |   |   |   | \n",
      "   --- --- ---\n",
      "3 |   |   |   | \n",
      "   --- --- ---\n"
     ]
    },
    {
     "name": "stdin",
     "output_type": "stream",
     "text": [
      "Player 2, enter your move (e.g., A1):  C2\n"
     ]
    },
    {
     "name": "stdout",
     "output_type": "stream",
     "text": [
      "   A   B   C\n",
      "   --- --- ---\n",
      "1 | X |   |   | \n",
      "   --- --- ---\n",
      "2 |   |   | O | \n",
      "   --- --- ---\n",
      "3 |   |   |   | \n",
      "   --- --- ---\n"
     ]
    },
    {
     "name": "stdin",
     "output_type": "stream",
     "text": [
      "Player 1, enter your move (e.g., A1):  B1\n"
     ]
    },
    {
     "name": "stdout",
     "output_type": "stream",
     "text": [
      "   A   B   C\n",
      "   --- --- ---\n",
      "1 | X | X |   | \n",
      "   --- --- ---\n",
      "2 |   |   | O | \n",
      "   --- --- ---\n",
      "3 |   |   |   | \n",
      "   --- --- ---\n"
     ]
    },
    {
     "name": "stdin",
     "output_type": "stream",
     "text": [
      "Player 2, enter your move (e.g., A1):  C1\n"
     ]
    },
    {
     "name": "stdout",
     "output_type": "stream",
     "text": [
      "   A   B   C\n",
      "   --- --- ---\n",
      "1 | X | X | O | \n",
      "   --- --- ---\n",
      "2 |   |   | O | \n",
      "   --- --- ---\n",
      "3 |   |   |   | \n",
      "   --- --- ---\n"
     ]
    },
    {
     "name": "stdin",
     "output_type": "stream",
     "text": [
      "Player 1, enter your move (e.g., A1):  C3\n"
     ]
    },
    {
     "name": "stdout",
     "output_type": "stream",
     "text": [
      "   A   B   C\n",
      "   --- --- ---\n",
      "1 | X | X | O | \n",
      "   --- --- ---\n",
      "2 |   |   | O | \n",
      "   --- --- ---\n",
      "3 |   |   | X | \n",
      "   --- --- ---\n"
     ]
    },
    {
     "name": "stdin",
     "output_type": "stream",
     "text": [
      "Player 2, enter your move (e.g., A1):  B2\n"
     ]
    },
    {
     "name": "stdout",
     "output_type": "stream",
     "text": [
      "   A   B   C\n",
      "   --- --- ---\n",
      "1 | X | X | O | \n",
      "   --- --- ---\n",
      "2 |   | O | O | \n",
      "   --- --- ---\n",
      "3 |   |   | X | \n",
      "   --- --- ---\n"
     ]
    },
    {
     "name": "stdin",
     "output_type": "stream",
     "text": [
      "Player 1, enter your move (e.g., A1):  A3\n"
     ]
    },
    {
     "name": "stdout",
     "output_type": "stream",
     "text": [
      "   A   B   C\n",
      "   --- --- ---\n",
      "1 | X | X | O | \n",
      "   --- --- ---\n",
      "2 |   | O | O | \n",
      "   --- --- ---\n",
      "3 | X |   | X | \n",
      "   --- --- ---\n"
     ]
    },
    {
     "name": "stdin",
     "output_type": "stream",
     "text": [
      "Player 2, enter your move (e.g., A1):  A2\n"
     ]
    },
    {
     "name": "stdout",
     "output_type": "stream",
     "text": [
      "Player 2 wins!\n"
     ]
    }
   ],
   "source": [
    "def tic_tac_toe_game(n):\n",
    "    board = create_board(n)\n",
    "    current_player = 1\n",
    "    \n",
    "    while True:\n",
    "        draw_board_with_labels(board)\n",
    "        get_player_move(board, current_player)\n",
    "        \n",
    "        result = check_winner(board)\n",
    "        if result == 1:\n",
    "            print(\"Player 1 wins!\")\n",
    "            break\n",
    "        elif result == 2:\n",
    "            print(\"Player 2 wins!\")\n",
    "            break\n",
    "        elif result == 0:\n",
    "            print(\"It's a draw!\")\n",
    "            break\n",
    "        \n",
    "        current_player = 2 if current_player == 1 else 1\n",
    "\n",
    "# Testing solution\n",
    "tic_tac_toe_game(3)\n"
   ]
  },
  {
   "cell_type": "markdown",
   "metadata": {},
   "source": [
    "*Exercise 10:* Test that your game works for 5x5 Tic Tac Toe.  "
   ]
  },
  {
   "cell_type": "code",
   "execution_count": 24,
   "metadata": {},
   "outputs": [
    {
     "name": "stdout",
     "output_type": "stream",
     "text": [
      "   A   B   C   D   E\n",
      "   --- --- --- --- ---\n",
      "1 |   |   |   |   |   | \n",
      "   --- --- --- --- ---\n",
      "2 |   |   |   |   |   | \n",
      "   --- --- --- --- ---\n",
      "3 |   |   |   |   |   | \n",
      "   --- --- --- --- ---\n",
      "4 |   |   |   |   |   | \n",
      "   --- --- --- --- ---\n",
      "5 |   |   |   |   |   | \n",
      "   --- --- --- --- ---\n"
     ]
    },
    {
     "name": "stdin",
     "output_type": "stream",
     "text": [
      "Player 1, enter your move (e.g., A1):  A1\n"
     ]
    },
    {
     "name": "stdout",
     "output_type": "stream",
     "text": [
      "   A   B   C   D   E\n",
      "   --- --- --- --- ---\n",
      "1 | X |   |   |   |   | \n",
      "   --- --- --- --- ---\n",
      "2 |   |   |   |   |   | \n",
      "   --- --- --- --- ---\n",
      "3 |   |   |   |   |   | \n",
      "   --- --- --- --- ---\n",
      "4 |   |   |   |   |   | \n",
      "   --- --- --- --- ---\n",
      "5 |   |   |   |   |   | \n",
      "   --- --- --- --- ---\n"
     ]
    },
    {
     "name": "stdin",
     "output_type": "stream",
     "text": [
      "Player 2, enter your move (e.g., A1):  C4\n"
     ]
    },
    {
     "name": "stdout",
     "output_type": "stream",
     "text": [
      "   A   B   C   D   E\n",
      "   --- --- --- --- ---\n",
      "1 | X |   |   |   |   | \n",
      "   --- --- --- --- ---\n",
      "2 |   |   |   |   |   | \n",
      "   --- --- --- --- ---\n",
      "3 |   |   |   |   |   | \n",
      "   --- --- --- --- ---\n",
      "4 |   |   | O |   |   | \n",
      "   --- --- --- --- ---\n",
      "5 |   |   |   |   |   | \n",
      "   --- --- --- --- ---\n"
     ]
    },
    {
     "name": "stdin",
     "output_type": "stream",
     "text": [
      "Player 1, enter your move (e.g., A1):  B2\n"
     ]
    },
    {
     "name": "stdout",
     "output_type": "stream",
     "text": [
      "   A   B   C   D   E\n",
      "   --- --- --- --- ---\n",
      "1 | X |   |   |   |   | \n",
      "   --- --- --- --- ---\n",
      "2 |   | X |   |   |   | \n",
      "   --- --- --- --- ---\n",
      "3 |   |   |   |   |   | \n",
      "   --- --- --- --- ---\n",
      "4 |   |   | O |   |   | \n",
      "   --- --- --- --- ---\n",
      "5 |   |   |   |   |   | \n",
      "   --- --- --- --- ---\n"
     ]
    },
    {
     "name": "stdin",
     "output_type": "stream",
     "text": [
      "Player 2, enter your move (e.g., A1):  A4\n"
     ]
    },
    {
     "name": "stdout",
     "output_type": "stream",
     "text": [
      "   A   B   C   D   E\n",
      "   --- --- --- --- ---\n",
      "1 | X |   |   |   |   | \n",
      "   --- --- --- --- ---\n",
      "2 |   | X |   |   |   | \n",
      "   --- --- --- --- ---\n",
      "3 |   |   |   |   |   | \n",
      "   --- --- --- --- ---\n",
      "4 | O |   | O |   |   | \n",
      "   --- --- --- --- ---\n",
      "5 |   |   |   |   |   | \n",
      "   --- --- --- --- ---\n"
     ]
    },
    {
     "name": "stdin",
     "output_type": "stream",
     "text": [
      "Player 1, enter your move (e.g., A1):  C3\n"
     ]
    },
    {
     "name": "stdout",
     "output_type": "stream",
     "text": [
      "   A   B   C   D   E\n",
      "   --- --- --- --- ---\n",
      "1 | X |   |   |   |   | \n",
      "   --- --- --- --- ---\n",
      "2 |   | X |   |   |   | \n",
      "   --- --- --- --- ---\n",
      "3 |   |   | X |   |   | \n",
      "   --- --- --- --- ---\n",
      "4 | O |   | O |   |   | \n",
      "   --- --- --- --- ---\n",
      "5 |   |   |   |   |   | \n",
      "   --- --- --- --- ---\n"
     ]
    },
    {
     "name": "stdin",
     "output_type": "stream",
     "text": [
      "Player 2, enter your move (e.g., A1):  B4\n"
     ]
    },
    {
     "name": "stdout",
     "output_type": "stream",
     "text": [
      "   A   B   C   D   E\n",
      "   --- --- --- --- ---\n",
      "1 | X |   |   |   |   | \n",
      "   --- --- --- --- ---\n",
      "2 |   | X |   |   |   | \n",
      "   --- --- --- --- ---\n",
      "3 |   |   | X |   |   | \n",
      "   --- --- --- --- ---\n",
      "4 | O | O | O |   |   | \n",
      "   --- --- --- --- ---\n",
      "5 |   |   |   |   |   | \n",
      "   --- --- --- --- ---\n"
     ]
    },
    {
     "name": "stdin",
     "output_type": "stream",
     "text": [
      "Player 1, enter your move (e.g., A1):  D4\n"
     ]
    },
    {
     "name": "stdout",
     "output_type": "stream",
     "text": [
      "   A   B   C   D   E\n",
      "   --- --- --- --- ---\n",
      "1 | X |   |   |   |   | \n",
      "   --- --- --- --- ---\n",
      "2 |   | X |   |   |   | \n",
      "   --- --- --- --- ---\n",
      "3 |   |   | X |   |   | \n",
      "   --- --- --- --- ---\n",
      "4 | O | O | O | X |   | \n",
      "   --- --- --- --- ---\n",
      "5 |   |   |   |   |   | \n",
      "   --- --- --- --- ---\n"
     ]
    },
    {
     "name": "stdin",
     "output_type": "stream",
     "text": [
      "Player 2, enter your move (e.g., A1):  E3\n"
     ]
    },
    {
     "name": "stdout",
     "output_type": "stream",
     "text": [
      "   A   B   C   D   E\n",
      "   --- --- --- --- ---\n",
      "1 | X |   |   |   |   | \n",
      "   --- --- --- --- ---\n",
      "2 |   | X |   |   |   | \n",
      "   --- --- --- --- ---\n",
      "3 |   |   | X |   | O | \n",
      "   --- --- --- --- ---\n",
      "4 | O | O | O | X |   | \n",
      "   --- --- --- --- ---\n",
      "5 |   |   |   |   |   | \n",
      "   --- --- --- --- ---\n"
     ]
    },
    {
     "name": "stdin",
     "output_type": "stream",
     "text": [
      "Player 1, enter your move (e.g., A1):  E5\n"
     ]
    },
    {
     "name": "stdout",
     "output_type": "stream",
     "text": [
      "Player 1 wins!\n"
     ]
    }
   ],
   "source": [
    "tic_tac_toe_game(5)"
   ]
  },
  {
   "cell_type": "markdown",
   "metadata": {},
   "source": [
    "*Exercise 11:* (Advanced / Challenge) Develop a version of the game where one player is the computer. Note that you don't need to do an extensive seach for the best move. You can have the computer simply protect against loosing and otherwise try to win with straight or diagonal patterns."
   ]
  },
  {
   "cell_type": "code",
   "execution_count": 25,
   "metadata": {},
   "outputs": [
    {
     "name": "stdout",
     "output_type": "stream",
     "text": [
      "   A   B   C\n",
      "   --- --- ---\n",
      "1 |   |   |   | \n",
      "   --- --- ---\n",
      "2 |   |   |   | \n",
      "   --- --- ---\n",
      "3 |   |   |   | \n",
      "   --- --- ---\n"
     ]
    },
    {
     "name": "stdin",
     "output_type": "stream",
     "text": [
      "Player 1, enter your move (e.g., A1):  A1\n"
     ]
    },
    {
     "name": "stdout",
     "output_type": "stream",
     "text": [
      "   A   B   C\n",
      "   --- --- ---\n",
      "1 | X |   |   | \n",
      "   --- --- ---\n",
      "2 |   |   |   | \n",
      "   --- --- ---\n",
      "3 |   |   |   | \n",
      "   --- --- ---\n",
      "Computer is making a move...\n",
      "   A   B   C\n",
      "   --- --- ---\n",
      "1 | X |   |   | \n",
      "   --- --- ---\n",
      "2 |   | O |   | \n",
      "   --- --- ---\n",
      "3 |   |   |   | \n",
      "   --- --- ---\n"
     ]
    },
    {
     "name": "stdin",
     "output_type": "stream",
     "text": [
      "Player 1, enter your move (e.g., A1):  C1\n"
     ]
    },
    {
     "name": "stdout",
     "output_type": "stream",
     "text": [
      "   A   B   C\n",
      "   --- --- ---\n",
      "1 | X |   | X | \n",
      "   --- --- ---\n",
      "2 |   | O |   | \n",
      "   --- --- ---\n",
      "3 |   |   |   | \n",
      "   --- --- ---\n",
      "Computer is making a move...\n",
      "   A   B   C\n",
      "   --- --- ---\n",
      "1 | X |   | X | \n",
      "   --- --- ---\n",
      "2 | O | O |   | \n",
      "   --- --- ---\n",
      "3 |   |   |   | \n",
      "   --- --- ---\n"
     ]
    },
    {
     "name": "stdin",
     "output_type": "stream",
     "text": [
      "Player 1, enter your move (e.g., A1):  B1\n"
     ]
    },
    {
     "name": "stdout",
     "output_type": "stream",
     "text": [
      "   A   B   C\n",
      "   --- --- ---\n",
      "1 | X | X | X | \n",
      "   --- --- ---\n",
      "2 | O | O |   | \n",
      "   --- --- ---\n",
      "3 |   |   |   | \n",
      "   --- --- ---\n",
      "Player 1 (Human) wins!\n"
     ]
    }
   ],
   "source": [
    "import random\n",
    "\n",
    "def computer_move(board, player):\n",
    "    for i in range(len(board)):\n",
    "        for j in range(len(board)):\n",
    "            if board[i][j] == 0:\n",
    "                board[i][j] = player\n",
    "                if check_winner(board) == player:\n",
    "                    return\n",
    "                board[i][j] = 0  \n",
    "    while True:\n",
    "        row = random.randint(0, len(board) - 1)\n",
    "        col = random.randint(0, len(board) - 1)\n",
    "        if board[row][col] == 0:\n",
    "            board[row][col] = player\n",
    "            return\n",
    "\n",
    "\n",
    "def tic_tac_toe_game_with_computer(n):\n",
    "    board = create_board(n)\n",
    "    current_player = 1\n",
    "    \n",
    "    while True:\n",
    "        draw_board_with_labels(board)\n",
    "        \n",
    "        if current_player == 1:\n",
    "            get_player_move(board, 1)\n",
    "        else:\n",
    "            print(\"Computer is making a move...\")\n",
    "            computer_move(board, 2)\n",
    "        \n",
    "        result = check_winner(board)\n",
    "        if result == 1:\n",
    "            draw_board_with_labels(board)\n",
    "            print(\"Player 1 (Human) wins!\")\n",
    "            break\n",
    "        elif result == 2:\n",
    "            draw_board_with_labels(board)\n",
    "            print(\"Player 2 (Computer) wins!\")\n",
    "            break\n",
    "        elif result == 0:\n",
    "            draw_board_with_labels(board)\n",
    "            print(\"It's a draw!\")\n",
    "            break\n",
    "        \n",
    "        current_player = 2 if current_player == 1 else 1\n",
    "\n",
    "# Testing the game with a 3x3 board against the computer\n",
    "tic_tac_toe_game_with_computer(3)\n"
   ]
  }
 ],
 "metadata": {
  "kernelspec": {
   "display_name": "Python 3 (ipykernel)",
   "language": "python",
   "name": "python3"
  },
  "language_info": {
   "codemirror_mode": {
    "name": "ipython",
    "version": 3
   },
   "file_extension": ".py",
   "mimetype": "text/x-python",
   "name": "python",
   "nbconvert_exporter": "python",
   "pygments_lexer": "ipython3",
   "version": "3.10.12"
  }
 },
 "nbformat": 4,
 "nbformat_minor": 4
}
