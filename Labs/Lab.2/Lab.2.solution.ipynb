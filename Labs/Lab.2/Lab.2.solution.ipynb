{
 "cells": [
  {
   "cell_type": "markdown",
   "metadata": {},
   "source": [
    "## Lab 2- Tic Tac Toe\n",
    "\n",
    "In this lab your will build a n x n Tic Tac Toe game. As you do the exercises, make sure your solutions work for any size Tic Tac Toe game. "
   ]
  },
  {
   "cell_type": "markdown",
   "metadata": {},
   "source": [
    "*Exercise 1:* Write a function that creates an n by n matrix (of list of lists) which will represent the state of a Tie Tac Toe game. Let 0, 1, and 2 represent empty, \"X\", and \"O\", respectively.\n"
   ]
  },
  {
   "cell_type": "code",
   "execution_count": 1,
   "metadata": {},
   "outputs": [],
   "source": [
    "def create_tic_tac_toe_board(n):\n",
    "    return [[0 for _ in range(n)] for _ in range(n)]"
   ]
  },
  {
   "cell_type": "code",
   "execution_count": 2,
   "metadata": {},
   "outputs": [
    {
     "name": "stdout",
     "output_type": "stream",
     "text": [
      "3x3 Tic Tac Toe Board:\n",
      "[0, 0, 0]\n",
      "[0, 0, 0]\n",
      "[0, 0, 0]\n"
     ]
    }
   ],
   "source": [
    "board_3x3 = create_tic_tac_toe_board(3)\n",
    "print(\"3x3 Tic Tac Toe Board:\")\n",
    "for row in board_3x3:\n",
    "    print(row)"
   ]
  },
  {
   "cell_type": "markdown",
   "metadata": {},
   "source": [
    "*Exercise 2:* Write a function that takes 2 integers `n` and `m` as input and draws a `n` by `m` game board. For example the following is a 3x3 board:\n",
    "```\n",
    "   --- --- --- \n",
    "  |   |   |   | \n",
    "   --- --- ---  \n",
    "  |   |   |   | \n",
    "   --- --- ---  \n",
    "  |   |   |   | \n",
    "   --- --- --- \n",
    "   ```"
   ]
  },
  {
   "cell_type": "code",
   "execution_count": 3,
   "metadata": {},
   "outputs": [],
   "source": [
    "def draw_game_board(n, m):\n",
    "    for i in range(n):\n",
    "        print(\"   \" + \" ---\" * m)\n",
    "        print(\"  |\" + \"   |\" * m)\n",
    "    print(\"   \" + \" ---\" * m)"
   ]
  },
  {
   "cell_type": "code",
   "execution_count": 4,
   "metadata": {},
   "outputs": [
    {
     "name": "stdout",
     "output_type": "stream",
     "text": [
      "3x3 Tic Tac Toe Board:\n",
      "    --- --- ---\n",
      "  |   |   |   |\n",
      "    --- --- ---\n",
      "  |   |   |   |\n",
      "    --- --- ---\n",
      "  |   |   |   |\n",
      "    --- --- ---\n"
     ]
    }
   ],
   "source": [
    "print(\"3x3 Tic Tac Toe Board:\")\n",
    "draw_game_board(3, 3)"
   ]
  },
  {
   "cell_type": "markdown",
   "metadata": {},
   "source": [
    "*Exercise 3:* Modify exercise 2, so that it takes a matrix of the form from exercise 1 and draws a tic-tac-tie board with \"X\"s and \"O\"s.  "
   ]
  },
  {
   "cell_type": "code",
   "execution_count": 5,
   "metadata": {},
   "outputs": [],
   "source": [
    "def draw_tic_tac_toe_with_pieces(board):\n",
    "    n = len(board)\n",
    "    m = len(board[0])\n",
    "    \n",
    "    piece_map = {0: \" \", 1: \"X\", 2: \"O\"}\n",
    "    \n",
    "    for i in range(n):\n",
    "        print(\"   \" + \" ---\" * m)\n",
    "        \n",
    "        print(\"  |\", end=\"\")\n",
    "        for j in range(m):\n",
    "            print(f\" {piece_map[board[i][j]]} |\", end=\"\")\n",
    "        print()\n",
    "    \n",
    "    print(\"   \" + \" ---\" * m)"
   ]
  },
  {
   "cell_type": "code",
   "execution_count": 6,
   "metadata": {},
   "outputs": [
    {
     "name": "stdout",
     "output_type": "stream",
     "text": [
      "    --- --- ---\n",
      "  | X | O |   |\n",
      "    --- --- ---\n",
      "  |   | X | O |\n",
      "    --- --- ---\n",
      "  | O |   | X |\n",
      "    --- --- ---\n"
     ]
    }
   ],
   "source": [
    "board_example = [\n",
    "    [1, 2, 0],\n",
    "    [0, 1, 2],\n",
    "    [2, 0, 1]\n",
    "]\n",
    "\n",
    "draw_tic_tac_toe_with_pieces(board_example)"
   ]
  },
  {
   "cell_type": "markdown",
   "metadata": {},
   "source": [
    "*Exercise 4:* Write a function that takes a `n` by `n` matrix representing a tic-tac-toe game, and returns -1, 0, 1, or 2 indicating the game is incomplete, the game is a draw, player 1 has won, or player 2 has one, respectively. Here are some example inputs you can use to test your code:"
   ]
  },
  {
   "cell_type": "code",
   "execution_count": 8,
   "metadata": {},
   "outputs": [],
   "source": [
    "def check_tic_tac_toe_winner(board):\n",
    "    n = len(board)\n",
    "    \n",
    "    for row in board:\n",
    "        if all(x == 1 for x in row):\n",
    "            return 1\n",
    "        if all(x == 2 for x in row):\n",
    "            return 2\n",
    "    \n",
    "    for col in range(n):\n",
    "        if all(board[row][col] == 1 for row in range(n)):\n",
    "            return 1\n",
    "        if all(board[row][col] == 2 for row in range(n)):\n",
    "            return 2\n",
    "    \n",
    "    if all(board[i][i] == 1 for i in range(n)):\n",
    "        return 1\n",
    "    if all(board[i][i] == 2 for i in range(n)):\n",
    "        return 2\n",
    "    \n",
    "    if all(board[i][n-i-1] == 1 for i in range(n)):\n",
    "        return 1\n",
    "    if all(board[i][n-i-1] == 2 for i in range(n)):\n",
    "        return 2\n",
    "    \n",
    "    if any(0 in row for row in board):\n",
    "        return -1  \n",
    "    \n",
    "    return 0"
   ]
  },
  {
   "cell_type": "code",
   "execution_count": 9,
   "metadata": {},
   "outputs": [
    {
     "name": "stdout",
     "output_type": "stream",
     "text": [
      "2\n",
      "1\n",
      "1\n",
      "-1\n",
      "-1\n"
     ]
    }
   ],
   "source": [
    "winner_is_2 = [[2, 2, 0],\n",
    "               [2, 1, 0],\n",
    "               [2, 1, 1]]\n",
    "\n",
    "winner_is_1 = [[1, 2, 0],\n",
    "               [2, 1, 0],\n",
    "               [2, 1, 1]]\n",
    "\n",
    "winner_is_also_1 = [[0, 1, 0],\n",
    "                    [2, 1, 0],\n",
    "                    [2, 1, 1]]\n",
    "\n",
    "no_winner = [[1, 2, 0],\n",
    "             [2, 1, 0],\n",
    "             [2, 1, 2]]\n",
    "\n",
    "also_no_winner = [[1, 2, 0],\n",
    "                  [2, 1, 0],\n",
    "                  [2, 1, 0]]\n",
    "\n",
    "print(check_tic_tac_toe_winner(winner_is_2))          \n",
    "print(check_tic_tac_toe_winner(winner_is_1))          \n",
    "print(check_tic_tac_toe_winner(winner_is_also_1))     \n",
    "print(check_tic_tac_toe_winner(no_winner))            \n",
    "print(check_tic_tac_toe_winner(also_no_winner)) "
   ]
  },
  {
   "cell_type": "code",
   "execution_count": null,
   "metadata": {
    "collapsed": true
   },
   "outputs": [],
   "source": [
    "winner_is_2 = [[2, 2, 0],\n",
    "\t[2, 1, 0],\n",
    "\t[2, 1, 1]]\n",
    "\n",
    "winner_is_1 = [[1, 2, 0],\n",
    "\t[2, 1, 0],\n",
    "\t[2, 1, 1]]\n",
    "\n",
    "winner_is_also_1 = [[0, 1, 0],\n",
    "\t[2, 1, 0],\n",
    "\t[2, 1, 1]]\n",
    "\n",
    "no_winner = [[1, 2, 0],\n",
    "\t[2, 1, 0],\n",
    "\t[2, 1, 2]]\n",
    "\n",
    "also_no_winner = [[1, 2, 0],\n",
    "\t[2, 1, 0],\n",
    "\t[2, 1, 0]]"
   ]
  },
  {
   "cell_type": "markdown",
   "metadata": {},
   "source": [
    "*Exercise 5:* Write a function that takes a game board, player number, and `(x,y)` coordinates and places \"X\" or \"O\" in the correct location of the game board. Make sure that you only allow filling previously empty locations. Return `True` or `False` to indicate successful placement of \"X\" or \"O\"."
   ]
  },
  {
   "cell_type": "code",
   "execution_count": 10,
   "metadata": {},
   "outputs": [],
   "source": [
    "def place_piece(board, player, x, y):\n",
    "    if board[x][y] == 0:\n",
    "        if player == 1:\n",
    "            board[x][y] = 1\n",
    "        elif player == 2:\n",
    "            board[x][y] = 2\n",
    "        return True\n",
    "    else:\n",
    "        return False\n"
   ]
  },
  {
   "cell_type": "code",
   "execution_count": 11,
   "metadata": {},
   "outputs": [
    {
     "name": "stdout",
     "output_type": "stream",
     "text": [
      "True\n",
      "False\n",
      "True\n",
      "[1, 2, 0]\n",
      "[0, 1, 0]\n",
      "[2, 0, 0]\n"
     ]
    }
   ],
   "source": [
    "test_board = [\n",
    "    [0, 0, 0],\n",
    "    [0, 1, 0],\n",
    "    [2, 0, 0]\n",
    "]\n",
    "\n",
    "print(place_piece(test_board, 1, 0, 0))\n",
    "print(place_piece(test_board, 2, 1, 1))\n",
    "print(place_piece(test_board, 2, 0, 1))\n",
    "\n",
    "for row in test_board:\n",
    "    print(row)"
   ]
  },
  {
   "cell_type": "markdown",
   "metadata": {},
   "source": [
    "*Exercise 6:* Modify Exercise 4 to show column and row labels so that players can specify location using \"A2\" or \"C1\"."
   ]
  },
  {
   "cell_type": "code",
   "execution_count": 12,
   "metadata": {},
   "outputs": [],
   "source": [
    "def parse_location(location):\n",
    "    row_letters = \"ABCDEFGHIJKLMNOPQRSTUVWXYZ\"\n",
    "    row = row_letters.index(location[0].upper())\n",
    "    col = int(location[1]) - 1\n",
    "    return row, col\n",
    "\n",
    "def place_piece_with_labels(board, player, location):\n",
    "    x, y = parse_location(location)\n",
    "    if board[x][y] == 0:\n",
    "        if player == 1:\n",
    "            board[x][y] = 1\n",
    "        elif player == 2:\n",
    "            board[x][y] = 2\n",
    "        return True\n",
    "    else:\n",
    "        return False\n"
   ]
  },
  {
   "cell_type": "code",
   "execution_count": 13,
   "metadata": {},
   "outputs": [
    {
     "name": "stdout",
     "output_type": "stream",
     "text": [
      "True\n",
      "True\n",
      "False\n",
      "[0, 1, 0]\n",
      "[2, 1, 0]\n",
      "[2, 0, 0]\n"
     ]
    }
   ],
   "source": [
    "test_board = [\n",
    "    [0, 0, 0],\n",
    "    [0, 1, 0],\n",
    "    [2, 0, 0]\n",
    "]\n",
    "\n",
    "print(place_piece_with_labels(test_board, 1, \"A2\"))\n",
    "print(place_piece_with_labels(test_board, 2, \"B1\"))\n",
    "print(place_piece_with_labels(test_board, 2, \"C1\"))\n",
    "\n",
    "for row in test_board:\n",
    "    print(row)\n"
   ]
  },
  {
   "cell_type": "markdown",
   "metadata": {},
   "source": [
    "*Exercise 7:* Write a function that takes a board, player number, and location specified as in exercise 6 and then calls exercise 5 to correctly modify the board.  "
   ]
  },
  {
   "cell_type": "code",
   "execution_count": 14,
   "metadata": {},
   "outputs": [],
   "source": [
    "def update_board_with_location(board, player, location):\n",
    "    row, col = parse_location(location)\n",
    "    return place_piece(board, player, row, col)\n"
   ]
  },
  {
   "cell_type": "code",
   "execution_count": 15,
   "metadata": {},
   "outputs": [
    {
     "name": "stdout",
     "output_type": "stream",
     "text": [
      "True\n",
      "True\n",
      "False\n",
      "[1, 0, 0]\n",
      "[0, 1, 2]\n",
      "[2, 0, 0]\n"
     ]
    }
   ],
   "source": [
    "def parse_location(location):\n",
    "    row_letters = \"ABCDEFGHIJKLMNOPQRSTUVWXYZ\"\n",
    "    row = row_letters.index(location[0].upper())\n",
    "    col = int(location[1]) - 1\n",
    "    return row, col\n",
    "\n",
    "def place_piece(board, player, x, y):\n",
    "    if board[x][y] == 0:\n",
    "        if player == 1:\n",
    "            board[x][y] = 1\n",
    "        elif player == 2:\n",
    "            board[x][y] = 2\n",
    "        return True\n",
    "    else:\n",
    "        return False\n",
    "\n",
    "test_board = [\n",
    "    [0, 0, 0],\n",
    "    [0, 1, 0],\n",
    "    [2, 0, 0]\n",
    "]\n",
    "\n",
    "print(update_board_with_location(test_board, 1, \"A1\"))  \n",
    "print(update_board_with_location(test_board, 2, \"B3\"))  \n",
    "print(update_board_with_location(test_board, 2, \"B2\"))  \n",
    "\n",
    "for row in test_board:\n",
    "    print(row)"
   ]
  },
  {
   "cell_type": "markdown",
   "metadata": {},
   "source": [
    "*Exercise 8:* Write a function is called with a board and player number, takes input from the player using python's `input`, and modifies the board using your function from exercise 7. Note that you should keep asking for input until you have gotten a valid input that results in a valid move."
   ]
  },
  {
   "cell_type": "code",
   "execution_count": 16,
   "metadata": {},
   "outputs": [],
   "source": [
    "def take_valid_move(board, player):\n",
    "    valid_move = False\n",
    "    while not valid_move:\n",
    "        location = input(f\"Player {player}, enter your move (e.g., A1, B2): \")\n",
    "        if len(location) == 2 and location[0].isalpha() and location[1].isdigit():\n",
    "            valid_move = update_board_with_location(board, player, location)\n",
    "            if not valid_move:\n",
    "                print(\"Invalid move, spot is already taken. Try again.\")\n",
    "        else:\n",
    "            print(\"Invalid input format. Please enter a valid location like A1 or B2.\")\n"
   ]
  },
  {
   "cell_type": "code",
   "execution_count": 17,
   "metadata": {},
   "outputs": [
    {
     "name": "stdout",
     "output_type": "stream",
     "text": [
      "Player 1, enter your move (e.g., A1, B2): B2\n",
      "Invalid move, spot is already taken. Try again.\n",
      "Player 1, enter your move (e.g., A1, B2): C3\n",
      "[0, 0, 0]\n",
      "[0, 1, 0]\n",
      "[2, 0, 1]\n"
     ]
    }
   ],
   "source": [
    "def parse_location(location):\n",
    "    row_letters = \"ABCDEFGHIJKLMNOPQRSTUVWXYZ\"\n",
    "    row = row_letters.index(location[0].upper())\n",
    "    col = int(location[1]) - 1\n",
    "    return row, col\n",
    "\n",
    "def place_piece(board, player, x, y):\n",
    "    if board[x][y] == 0:\n",
    "        if player == 1:\n",
    "            board[x][y] = 1\n",
    "        elif player == 2:\n",
    "            board[x][y] = 2\n",
    "        return True\n",
    "    else:\n",
    "        return False\n",
    "\n",
    "def update_board_with_location(board, player, location):\n",
    "    row, col = parse_location(location)\n",
    "    return place_piece(board, player, row, col)\n",
    "\n",
    "test_board = [\n",
    "    [0, 0, 0],\n",
    "    [0, 1, 0],\n",
    "    [2, 0, 0]\n",
    "]\n",
    "\n",
    "take_valid_move(test_board, 1)  \n",
    "for row in test_board:\n",
    "    print(row)\n"
   ]
  },
  {
   "cell_type": "markdown",
   "metadata": {},
   "source": [
    "*Exercise 9:* Use all of the previous exercises to implement a full tic-tac-toe game, where an appropriate board is drawn, 2 players are repeatedly asked for a location coordinates of where they wish to place a mark, and the game status is checked until a player wins or a draw occurs."
   ]
  },
  {
   "cell_type": "code",
   "execution_count": 18,
   "metadata": {},
   "outputs": [],
   "source": [
    "def create_tic_tac_toe_board(n):\n",
    "    return [[0 for _ in range(n)] for _ in range(n)]\n",
    "\n",
    "def parse_location(location):\n",
    "    row_letters = \"ABCDEFGHIJKLMNOPQRSTUVWXYZ\"\n",
    "    row = row_letters.index(location[0].upper())\n",
    "    col = int(location[1]) - 1\n",
    "    return row, col\n",
    "\n",
    "def place_piece(board, player, x, y):\n",
    "    if board[x][y] == 0:\n",
    "        board[x][y] = player\n",
    "        return True\n",
    "    return False\n",
    "\n",
    "def update_board_with_location(board, player, location):\n",
    "    row, col = parse_location(location)\n",
    "    return place_piece(board, player, row, col)\n",
    "\n",
    "def draw_tic_tac_toe_with_pieces(board):\n",
    "    n = len(board)\n",
    "    piece_map = {0: \" \", 1: \"X\", 2: \"O\"}\n",
    "    \n",
    "    for i in range(n):\n",
    "        print(\"   \" + \" ---\" * n)\n",
    "        print(\"  |\", end=\"\")\n",
    "        for j in range(n):\n",
    "            print(f\" {piece_map[board[i][j]]} |\", end=\"\")\n",
    "        print()\n",
    "    print(\"   \" + \" ---\" * n)\n",
    "\n",
    "def check_tic_tac_toe_winner(board):\n",
    "    n = len(board)\n",
    "    \n",
    "    for row in board:\n",
    "        if all(x == 1 for x in row):\n",
    "            return 1\n",
    "        if all(x == 2 for x in row):\n",
    "            return 2\n",
    "    \n",
    "    for col in range(n):\n",
    "        if all(board[row][col] == 1 for row in range(n)):\n",
    "            return 1\n",
    "        if all(board[row][col] == 2 for row in range(n)):\n",
    "            return 2\n",
    "    \n",
    "    if all(board[i][i] == 1 for i in range(n)):\n",
    "        return 1\n",
    "    if all(board[i][i] == 2 for i in range(n)):\n",
    "        return 2\n",
    "    if all(board[i][n-i-1] == 1 for i in range(n)):\n",
    "        return 1\n",
    "    if all(board[i][n-i-1] == 2 for i in range(n)):\n",
    "        return 2\n",
    "    \n",
    "    if any(0 in row for row in board):\n",
    "        return -1 \n",
    "    \n",
    "    return 0  \n",
    "\n",
    "def take_valid_move(board, player):\n",
    "    valid_move = False\n",
    "    while not valid_move:\n",
    "        location = input(f\"Player {player}, enter your move (e.g., A1, B2): \")\n",
    "        if len(location) == 2 and location[0].isalpha() and location[1].isdigit():\n",
    "            valid_move = update_board_with_location(board, player, location)\n",
    "            if not valid_move:\n",
    "                print(\"Invalid move, spot is already taken. Try again.\")\n",
    "        else:\n",
    "            print(\"Invalid input format. Please enter a valid location like A1 or B2.\")\n",
    "\n",
    "def tic_tac_toe_game():\n",
    "    print(\"Welcome to Tic Tac Toe!\")\n",
    "    board_size = 3\n",
    "    board = create_tic_tac_toe_board(board_size)\n",
    "    current_player = 1\n",
    "    game_won = False\n",
    "    \n",
    "    while not game_won:\n",
    "        draw_tic_tac_toe_with_pieces(board)\n",
    "        take_valid_move(board, current_player)\n",
    "        \n",
    "        game_status = check_tic_tac_toe_winner(board)\n",
    "        if game_status == 1:\n",
    "            print(\"Player 1 (X) wins!\")\n",
    "            game_won = True\n",
    "        elif game_status == 2:\n",
    "            print(\"Player 2 (O) wins!\")\n",
    "            game_won = True\n",
    "        elif game_status == 0:\n",
    "            print(\"It's a draw!\")\n",
    "            game_won = True\n",
    "        else:\n",
    "            current_player = 2 if current_player == 1 else 1\n",
    "\n",
    "    draw_tic_tac_toe_with_pieces(board)\n"
   ]
  },
  {
   "cell_type": "code",
   "execution_count": null,
   "metadata": {},
   "outputs": [
    {
     "name": "stdout",
     "output_type": "stream",
     "text": [
      "Welcome to Tic Tac Toe!\n",
      "    --- --- ---\n",
      "  |   |   |   |\n",
      "    --- --- ---\n",
      "  |   |   |   |\n",
      "    --- --- ---\n",
      "  |   |   |   |\n",
      "    --- --- ---\n",
      "Player 1, enter your move (e.g., A1, B2): A1\n",
      "    --- --- ---\n",
      "  | X |   |   |\n",
      "    --- --- ---\n",
      "  |   |   |   |\n",
      "    --- --- ---\n",
      "  |   |   |   |\n",
      "    --- --- ---\n",
      "Player 2, enter your move (e.g., A1, B2): 2\n",
      "Invalid input format. Please enter a valid location like A1 or B2.\n"
     ]
    }
   ],
   "source": [
    "tic_tac_toe_game()\n"
   ]
  },
  {
   "cell_type": "markdown",
   "metadata": {},
   "source": [
    "*Exercise 10:* Test that your game works for 5x5 Tic Tac Toe.  "
   ]
  },
  {
   "cell_type": "code",
   "execution_count": null,
   "metadata": {
    "collapsed": true
   },
   "outputs": [],
   "source": [
    "# Test your solution here"
   ]
  },
  {
   "cell_type": "markdown",
   "metadata": {},
   "source": [
    "*Exercise 11:* (Advanced / Challenge) Develop a version of the game where one player is the computer. Note that you don't need to do an extensive seach for the best move. You can have the computer simply protect against loosing and otherwise try to win with straight or diagonal patterns."
   ]
  },
  {
   "cell_type": "code",
   "execution_count": null,
   "metadata": {
    "collapsed": true
   },
   "outputs": [],
   "source": [
    "# Write you solution here"
   ]
  },
  {
   "cell_type": "code",
   "execution_count": null,
   "metadata": {
    "collapsed": true
   },
   "outputs": [],
   "source": [
    "# Test your solution here"
   ]
  }
 ],
 "metadata": {
  "kernelspec": {
   "display_name": "Python 3 (ipykernel)",
   "language": "python",
   "name": "python3"
  },
  "language_info": {
   "codemirror_mode": {
    "name": "ipython",
    "version": 3
   },
   "file_extension": ".py",
   "mimetype": "text/x-python",
   "name": "python",
   "nbconvert_exporter": "python",
   "pygments_lexer": "ipython3",
   "version": "3.12.3"
  }
 },
 "nbformat": 4,
 "nbformat_minor": 2
}
