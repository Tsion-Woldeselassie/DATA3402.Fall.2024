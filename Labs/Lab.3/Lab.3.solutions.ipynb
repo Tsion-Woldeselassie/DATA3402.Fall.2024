{
 "cells": [
  {
   "cell_type": "markdown",
   "metadata": {},
   "source": [
    "# Lab 3\n",
    "\n",
    "In this lab we will become familiar with distributions, histograms, and functional programming. Do not use numpy or any other library for this lab.\n",
    "\n",
    "Before that, lets get setup homework submission and submit your previous lab.  \n",
    "\n",
    "## Working on the Command-line.\n",
    "\n",
    "It is important for you to learn to work on the command line and to be familiar with the Unix environment (e.g. Linux, Mac OS, or Windows Linux Subsystem). We'll go over working on the command-line in detail later in the course.\n",
    "\n",
    "You are required to submit your work in this course via GitHub. Today in class, you will setup everything on the command-line.\n",
    "\n",
    "### Command-line basics\n",
    "\n",
    "There is plenty of material online that will help you figure out how to do various tasks on the command line. Commands you may need to know today:\n",
    "\n",
    "* `ls`: lists the contents of the current directory.\n",
    "* `pwd`: prints the path of the current directory.\n",
    "* `cd <directory>`: changes your current directory to the specified directory.\n",
    "* `cd ..`: changes current directory to the previous directory. Basically steps out of the current directory to the directory containing the current directory.\n",
    "* `mkdir <directory>`: create a new directory with the specified name.\n",
    "* `rmdir <directory>`: removes the specified directory. Note it has to be empty.\n",
    "* `rm <filename>`: deletes the specified file.\n",
    "* `mv <filename 1> <filename 1>`: Moves or renames a file.\n",
    "* `cp <filename 1> <filename 2>`: copies an file. If you just provide a path to a directory, it copies the file into that directory with the same filename. If you specifiy a new filename, the copy has a new name. For example `cp File.1.txt File.2.txt` creates a copy of `File.1.txt` with the name `File.2.txt`. Meanwhile `cp File.1.txt my_directory`, where `my_directory` is a directory, creates a copy of `File.1.txt` in directory `my_directory` with the name `File.1.txt`.\n",
    "\n",
    "For reference, here are some example resources I found by googling:\n",
    "\n",
    "* Paths and Wildcards: https://www.warp.dev/terminus/linux-wildcards\n",
    "* Basic commands like copy: https://kb.iu.edu/d/afsk\n",
    "* General introduction to shell: https://github-pages.ucl.ac.uk/RCPSTrainingMaterials/HPCandHTCusingLegion/2_intro_to_shell.html\n",
    "* Manual pages: https://www.geeksforgeeks.org/linux-man-page-entries-different-types/?ref=ml_lbp\n",
    "* Chaining commands: https://www.geeksforgeeks.org/chaining-commands-in-linux/?ref=ml_lbp\n",
    "* Piping: https://www.geeksforgeeks.org/piping-in-unix-or-linux/\n",
    "* Using sed: https://www.geeksforgeeks.org/sed-command-linux-set-2/?ref=ml_lbp\n",
    "* Various Unix commands: https://www.geeksforgeeks.org/linux-commands/?ref=lbp\n",
    "* Cheat sheets:\n",
    "    * https://www.stationx.net/unix-commands-cheat-sheet/\n",
    "    * https://cheatography.com/davechild/cheat-sheets/linux-command-line/\n",
    "    * https://www.theknowledgeacademy.com/blog/unix-commands-cheat-sheet/\n",
    "    \n",
    "These aren't necessarily the best resources. Feel free to search for better ones. Also, don't forget that Unix has built-in manual pages for all of its commands. Just type `man <command>` at the command prompt. Use the space-bar to scroll through the documentation and \"q\" to exit.\n",
    "\n",
    "\n",
    "### Setup and Submission\n",
    "\n",
    "Our course repository is public. The instructions here aim to have you setup a fork of the course repository. Unfortunately because you are forking a public repo, your fork will have to be public also. \n",
    "\n",
    "You should be familiar with git from the first semester of this course. I assume that you all have github accounts and have setup things to be able to [push to github using ssh](https://docs.github.com/en/github/authenticating-to-github/connecting-to-github-with-ssh). The instuctions here lead you to:\n",
    "\n",
    "We'll overview what you will do before going through step by step instructions.\n",
    "\n",
    "1. Setup:\n",
    "    1. Fork the class repository. Some directions in [fork-a-repo](https://docs.github.com/en/github/getting-started-with-github/fork-a-repo).\n",
    "    1. Create a directory on your personal system where you will keep all course materials.\n",
    "    1. In that directory, clone your fork of the repository.\n",
    "    1. Using `git remote`, set the upstream to be the class repo, so you can pull from the class and push to your fork.\n",
    "\n",
    "1. Submission:\n",
    "    1. Copy your solutions into the appropriate directory (e.g. into `Labs/Lab.2/`) and with appropriate filename `Lab.2.solution.ipynb'.\n",
    "    1. Commit / push your solutions.\n",
    "    1. Grant access to course instructors.\n",
    "\n",
    "Below are step by step instructions with examples (including example directory naming convention). Feel free to modify things as you see fit. \n",
    "\n",
    "#### Setup\n",
    "You should only need to follow this instructions once. Here are some useful git commands:\n",
    "\n",
    "* Git help: `git help`\n",
    "* Git remote help: `git help remote`\n",
    "* Check remote status: `git remote -v`\n",
    "* Add a remote: `git remote add <stream name> <repo URL>`\n",
    "* Add a remove: `git remote remove <stream name>`\n",
    "\n",
    "Steps:\n",
    "1. In a browser, log into GitHub and navigate to the [course repository](https://github.com/UTA-DataScience/DATA3402.Fall.2024).\n",
    "1. On the top right of the page, press the fork button to create a new fork into your own GitHub account.\n",
    "1. After successful fork, you should find the browser showing your fork of the course repository. Use the green \"Code\" button to copy path to the repo into your the clipboard of your computer.\n",
    "1. Open a shell on your personal computer.\n",
    "1. If you have not done so already, create a new directory/folder where you will keep all course material to navigate to it. For example: `mkdir Data-3402` and `cd Data-3402`.\n",
    "1. Clone your fork of the repository using `git clone` followed by the path you copied into your clipboard. (copy/paste)\n",
    "1. Paste the URL to your fork in the worksheet for the TAs and instructors.\n",
    "1. Now go into the directory of your clone (`cd DATA3402.Fall.2024`).\n",
    "1. Type `git remote -v` to see the current setup for fetch and pull.\n",
    "1. Note the URL you see. This should be the same as what you used for your clone for both push and fetch.\n",
    "1. Delete the origin remote using `git remote remove origin`.\n",
    "1. Add the course repo as your remote using `git remote add origin https://github.com/UTA-DataScience/DATA3402.Fall.2024.git`.\n",
    "1. Change the push to point to your fork. This means you will need the URL to your clone we copied earlier and confirmed as the original origin. The command will look something like: `git remote set-url --push origin  https://github.com/XXXXXX/DATA3402.Fall.2024.git`, where XXXXX is your username on GitHub.\n",
    "1. Note that if you setup everything correctly, you now should be able to do `git pull` to get updates from the course repo, and do `git push` to push your commits into your own fork.\n",
    "\n",
    "### Submission\n",
    "These instructions outline how you submit files. Some useful commands:\n",
    "* To add a file to local repository: `git add <file>`.\n",
    "* To commit all changed files into local repository: `git -a -m \"A message\"`. You need to provide some comment when you commit. \n",
    "* To push the commited files from the local repository to GitHub: `git push`.\n",
    "* To get updates from GitHub: `git pull`.\n",
    "\n",
    "Steps:\n",
    "1. To submit your labs, navigate to your clone of your fork of the course repository. \n",
    "1. Use `git pull` to make sure you have the latest updates. \n",
    "1. Make sure your copy of the lab your are working on is in the appropriate place in this clone. That means if you have the file elsewhere, copy it to the same directory in your clone of your fork. \n",
    "1. Note that in order to avoid future conflicts, you should always name your solution differently than the original file in the class repo. For example if your file is still named `Lab.2.ipynb` you should rename it using the `mv` command: `mv Lab.2.ipynb Lab.2.solution.ipynb`. \n",
    "1. Add and files you wish to submit into the repo. For example: `git add Labs/Lab.2/Lab.2.solution.ipynb`\n",
    "1. Commit any changes: `git commit -a -m \"Lab 2 updates\"`\n",
    "1. Push your changes: `git push`\n",
    "1. Check on github website that your solutions have been properly submitted.\n",
    "\n",
    "Before you leave the session today, make sure your GitHub Repo is setup. If you need to work further on your lab, navigate jupyter to the copy of the lab you just submitted and work there. Once done, repeat the commit and push commands to submit your updated solution. Note that lab 2 is due by midnight Monday 9/8/2024.\n"
   ]
  },
  {
   "cell_type": "markdown",
   "metadata": {},
   "source": [
    "### Uniform Distribution\n",
    "Lets start with generating some fake random data. You can get a random number between 0 and 1 using the python random module as follow:"
   ]
  },
  {
   "cell_type": "code",
   "execution_count": 63,
   "metadata": {},
   "outputs": [
    {
     "name": "stdout",
     "output_type": "stream",
     "text": [
      "The Value of x is 0.08741435474430026\n"
     ]
    }
   ],
   "source": [
    "import random\n",
    "x=random.random()\n",
    "print(\"The Value of x is\", x)"
   ]
  },
  {
   "cell_type": "markdown",
   "metadata": {},
   "source": [
    "Everytime you call random, you will get a new number.\n",
    "\n",
    "*Exercise 1:* Using random, write a function `generate_uniform(N, mymin, mymax)`, that returns a python list containing N random numbers between specified minimum and maximum value. Note that you may want to quickly work out on paper how to turn numbers between 0 and 1 to between other values. "
   ]
  },
  {
   "cell_type": "code",
   "execution_count": 64,
   "metadata": {},
   "outputs": [],
   "source": [
    "# Skeleton\n",
    "def generate_uniform(N,x_min,x_max):\n",
    "    out = []\n",
    "    ### BEGIN SOLUTION\n",
    "\n",
    "    # Fill in your solution here\n",
    "    for i in range(N):\n",
    "        out.append(random.uniform(x_min, x_max))\n",
    "\n",
    "    ### END SOLUTION\n",
    "    return out"
   ]
  },
  {
   "cell_type": "code",
   "execution_count": 65,
   "metadata": {},
   "outputs": [
    {
     "name": "stdout",
     "output_type": "stream",
     "text": [
      "Data Type: <class 'list'>\n",
      "Data Length: 1000\n",
      "Type of Data Contents: <class 'float'>\n",
      "Data Minimum: -9.973475069377702\n",
      "Data Maximum: 9.924899539380554\n"
     ]
    }
   ],
   "source": [
    "# Test your solution here\n",
    "data=generate_uniform(1000,-10,10)\n",
    "print (\"Data Type:\", type(data))\n",
    "print (\"Data Length:\", len(data))\n",
    "if len(data)>0:\n",
    "    print (\"Type of Data Contents:\", type(data[0]))\n",
    "    print (\"Data Minimum:\", min(data))\n",
    "    print (\"Data Maximum:\", max(data))"
   ]
  },
  {
   "cell_type": "markdown",
   "metadata": {},
   "source": [
    "*Exercise 2a:* \n",
    "Write a function that computes the mean of values in a list. Recall the equation for the mean of a random variable $\\bf{x}$ computed on a data set of $n$ values $\\{ x_i \\} = \\{x_1, x_2, ..., x_n\\}$  is ${\\bf\\bar{x}} = \\frac{1}{n} \\sum_i^n x_i$."
   ]
  },
  {
   "cell_type": "code",
   "execution_count": 66,
   "metadata": {},
   "outputs": [],
   "source": [
    "# Skeleton\n",
    "\n",
    "def mean(data):\n",
    "    m=0\n",
    "\n",
    "    ### BEGIN SOLUTION\n",
    "\n",
    "    for i in range(len(data)):\n",
    "        m += data[i]/len(data)\n",
    "\n",
    "    ### END SOLUTION\n",
    "\n",
    "    return m"
   ]
  },
  {
   "cell_type": "code",
   "execution_count": 67,
   "metadata": {},
   "outputs": [
    {
     "name": "stdout",
     "output_type": "stream",
     "text": [
      "Mean of Data: -0.23270408501705098\n"
     ]
    }
   ],
   "source": [
    "# Test your solution here\n",
    "print (\"Mean of Data:\", mean(data))"
   ]
  },
  {
   "cell_type": "markdown",
   "metadata": {},
   "source": [
    "*Exercise 2b:* \n",
    "Write a function that computes the variance of values in a list. Recall the equation for the variance of a random variable $\\bf{x}$ computed on a data set of $n$ values $\\{ x_i \\} = \\{x_1, x_2, ..., x_n\\}$  is ${\\bf\\langle x \\rangle} = \\frac{1}{n} \\sum_i^n (x_i - {\\bf\\bar{x}})$."
   ]
  },
  {
   "cell_type": "code",
   "execution_count": 68,
   "metadata": {},
   "outputs": [],
   "source": [
    "# Skeleton\n",
    "def variance(Data):\n",
    "    m=0.\n",
    "\n",
    "    ### BEGIN SOLUTION\n",
    "\n",
    "    if len(Data) < 2:\n",
    "      return 0\n",
    "\n",
    "    mean = sum(Data) / len(Data)\n",
    "    m = sum((x - mean) ** 2 for x in Data) / (len(Data) - 1)\n",
    "    ### END SOLUTION\n",
    "\n",
    "    return m"
   ]
  },
  {
   "cell_type": "code",
   "execution_count": 69,
   "metadata": {},
   "outputs": [
    {
     "name": "stdout",
     "output_type": "stream",
     "text": [
      "Variance of Data: 32.14094688637438\n"
     ]
    }
   ],
   "source": [
    "# Test your solution here\n",
    "print (\"Variance of Data:\", variance(data))"
   ]
  },
  {
   "cell_type": "markdown",
   "metadata": {},
   "source": [
    "## Histogramming"
   ]
  },
  {
   "cell_type": "markdown",
   "metadata": {},
   "source": [
    "*Exercise 3:* Write a function that bins the data so that you can create a histogram. An example of how to implement histogramming is the following logic:\n",
    "\n",
    "* User inputs a list of values `x` and optionally `n_bins` which defaults to 10.\n",
    "* If not supplied, find the minimum and maximum (`x_min`,`x_max`) of the values in x.\n",
    "* Determine the bin size (`bin_size`) by dividing the range of the function by the number of bins.\n",
    "* Create an empty list of zeros of size `n_bins`, call it `hist`.\n",
    "* Loop over the values in `x`\n",
    "    * Loop over the values in `hist` with index `i`:\n",
    "        * If x is between `x_min+i*bin_size` and `x_min+(i+1)*bin_size`, increment `hist[i].` \n",
    "        * For efficiency, try to use continue to goto the next bin and data point.\n",
    "* Return `hist` and the list corresponding of the bin edges (i.e. of `x_min+i*bin_size`).    "
   ]
  },
  {
   "cell_type": "code",
   "execution_count": 70,
   "metadata": {},
   "outputs": [],
   "source": [
    "# Solution\n",
    "def histogram(x,n_bins=10,x_min=None,x_max=None):\n",
    "    ### BEGIN SOLUTION\n",
    "\n",
    "    if x_min is None:\n",
    "        x_min = min(x)\n",
    "    if x_max is None:\n",
    "        x_max = max(x)\n",
    "    bin_edges = [x_min + i*(x_max-x_min)/n_bins for i in range(n_bins+1)]\n",
    "    hist = [0]*n_bins\n",
    "    for i in x:\n",
    "        for j in range(n_bins):\n",
    "            if i >= bin_edges[j] and i < bin_edges[j+1]:\n",
    "                hist[j] += 1\n",
    "                break\n",
    "    \n",
    "    ### END SOLUTION\n",
    "\n",
    "    return hist,bin_edges"
   ]
  },
  {
   "cell_type": "code",
   "execution_count": 71,
   "metadata": {},
   "outputs": [
    {
     "name": "stdout",
     "output_type": "stream",
     "text": [
      "Histogram: [11, 14, 5, 13, 13, 9, 11, 2, 14, 7, 12, 7, 10, 14, 7, 9, 15, 8, 11, 16, 9, 7, 8, 15, 6, 7, 12, 10, 9, 14, 13, 9, 10, 9, 14, 14, 12, 18, 4, 6, 6, 10, 15, 14, 7, 10, 12, 6, 12, 10, 5, 7, 9, 12, 13, 6, 11, 9, 8, 15, 12, 7, 18, 7, 17, 8, 11, 14, 13, 9, 12, 18, 9, 8, 5, 8, 10, 9, 10, 9, 7, 9, 7, 8, 9, 10, 8, 7, 11, 5, 7, 11, 5, 7, 10, 8, 15, 9, 4, 17]\n",
      "Bin edges: [-9.973475069377702, -9.77449132329012, -9.575507577202536, -9.376523831114955, -9.177540085027372, -8.97855633893979, -8.779572592852206, -8.580588846764623, -8.381605100677042, -8.18262135458946, -7.983637608501876, -7.784653862414294, -7.585670116326712, -7.386686370239129, -7.187702624151546, -6.988718878063964, -6.789735131976381, -6.590751385888799, -6.391767639801216, -6.192783893713633, -5.99380014762605, -5.794816401538469, -5.595832655450886, -5.396848909363303, -5.197865163275721, -4.998881417188138, -4.799897671100555, -4.600913925012973, -4.40193017892539, -4.202946432837808, -4.003962686750226, -3.804978940662642, -3.60599519457506, -3.407011448487478, -3.208027702399895, -3.009043956312312, -2.81006021022473, -2.611076464137147, -2.412092718049565, -2.213108971961983, -2.014125225874399, -1.815141479786817, -1.6161577336992359, -1.4171739876116511, -1.21819024152407, -1.019206495436487, -0.820222749348904, -0.6212390032613211, -0.4222552571737399, -0.22327151108615695, -0.02428776499857399, 0.17469598108900897, 0.3736797271765919, 0.5726634732641749, 0.7716472193517561, 0.970630965439339, 1.169614711526922, 1.3685984576145032, 1.5675822037020861, 1.766565949789669, 1.9655496958772503, 2.164533441964835, 2.363517188052418, 2.562500934139999, 2.761484680227582, 2.960468426315165, 3.1594521724027462, 3.358435918490329, 3.557419664577912, 3.7564034106654933, 3.955387156753078, 4.154370902840661, 4.353354648928242, 4.552338395015825, 4.751322141103408, 4.950305887190989, 5.149289633278572, 5.348273379366155, 5.547257125453736, 5.746240871541321, 5.945224617628904, 6.1442083637164835, 6.343192109804068, 6.542175855891653, 6.741159601979231, 6.940143348066815, 7.1391270941544, 7.338110840241981, 7.537094586329562, 7.736078332417147, 7.935062078504728, 8.13404582459231, 8.333029570679894, 8.532013316767475, 8.73099706285506, 8.929980808942641, 9.128964555030223, 9.327948301117807, 9.526932047205388, 9.725915793292973, 9.924899539380554]\n"
     ]
    }
   ],
   "source": [
    "# Test your solution here\n",
    "h,b=histogram(data,100)\n",
    "\n",
    "print(\"Histogram:\", h)\n",
    "print(\"Bin edges:\", b)"
   ]
  },
  {
   "cell_type": "markdown",
   "metadata": {},
   "source": [
    "*Exercise 4:* Write a function that uses the histogram function in the previous exercise to create a text-based \"graph\". For example the output could look like the following:\n",
    "```\n",
    "[  0,  1] : ######\n",
    "[  1,  2] : #####\n",
    "[  2,  3] : ######\n",
    "[  3,  4] : ####\n",
    "[  4,  5] : ####\n",
    "[  5,  6] : ######\n",
    "[  6,  7] : #####\n",
    "[  7,  8] : ######\n",
    "[  8,  9] : ####\n",
    "[  9, 10] : #####\n",
    "```\n",
    "\n",
    "Where each line corresponds to a bin and the number of `#`'s are proportional to the value of the data in the bin. "
   ]
  },
  {
   "cell_type": "code",
   "execution_count": 72,
   "metadata": {},
   "outputs": [],
   "source": [
    "# Solution\n",
    "def draw_histogram(x,n_bins,x_min=None,x_max=None,character=\"#\",max_character_per_line=20):\n",
    "    ### BEGIN SOLUTION\n",
    "\n",
    "    hist, bin_edges = histogram(x, n_bins, x_min, x_max)\n",
    "    hist_max = max(hist)\n",
    "    for i in range(n_bins):\n",
    "        num_char = int(hist[i] * max_character_per_line / hist_max)\n",
    "        print(f'{bin_edges[i]:.2f} - {bin_edges[i+1]:.2f} | {character * num_char}')\n",
    "\n",
    "\n",
    "    ### END SOLUTION\n",
    "\n",
    "    return hist,bin_edges"
   ]
  },
  {
   "cell_type": "code",
   "execution_count": 73,
   "metadata": {},
   "outputs": [
    {
     "name": "stdout",
     "output_type": "stream",
     "text": [
      "-9.97 - -7.98 | #################\n",
      "-7.98 - -5.99 | ##################\n",
      "-5.99 - -4.00 | ################\n",
      "-4.00 - -2.01 | ##################\n",
      "-2.01 - -0.02 | #################\n",
      "-0.02 - 1.97 | ################\n",
      "1.97 - 3.96 | ####################\n",
      "3.96 - 5.95 | ################\n",
      "5.95 - 7.94 | #############\n",
      "7.94 - 9.92 | ################\n"
     ]
    },
    {
     "data": {
      "text/plain": [
       "([99, 109, 97, 109, 102, 95, 116, 98, 81, 93],\n",
       " [-9.973475069377702,\n",
       "  -7.983637608501876,\n",
       "  -5.993800147626051,\n",
       "  -4.003962686750226,\n",
       "  -2.0141252258744,\n",
       "  -0.02428776499857399,\n",
       "  1.9655496958772503,\n",
       "  3.955387156753078,\n",
       "  5.945224617628902,\n",
       "  7.935062078504728,\n",
       "  9.924899539380554])"
      ]
     },
     "execution_count": 73,
     "metadata": {},
     "output_type": "execute_result"
    }
   ],
   "source": [
    "# Test your solution here\n",
    "h,b=histogram(data,20)\n",
    "draw_histogram(data, 10)"
   ]
  },
  {
   "cell_type": "markdown",
   "metadata": {},
   "source": [
    "## Functional Programming\n",
    "\n",
    "*Exercise 5:* Write a function the applies a booling function (that returns true/false) to every element in data, and return a list of indices of elements where the result was true. Use this function to find the indices of entries greater than 0.5. "
   ]
  },
  {
   "cell_type": "code",
   "execution_count": 74,
   "metadata": {},
   "outputs": [],
   "source": [
    "def where(mylist,myfunc):\n",
    "    out= []\n",
    "\n",
    "    ### BEGIN SOLUTION\n",
    "\n",
    "    for i, val in enumerate(mylist):\n",
    "        if myfunc(val):\n",
    "            out.append(i)\n",
    "\n",
    "    ### END SOLUTION\n",
    "\n",
    "    return out"
   ]
  },
  {
   "cell_type": "code",
   "execution_count": 75,
   "metadata": {},
   "outputs": [
    {
     "name": "stdout",
     "output_type": "stream",
     "text": [
      "[1, 3]\n"
     ]
    }
   ],
   "source": [
    "# Test your solution here\n",
    "\n",
    "data = [0.2, 0.7, 0.3, 0.8, 0.1]\n",
    "greater_than_05 = lambda x: x > 0.5\n",
    "indices = where(data, greater_than_05)\n",
    "print(indices)  # Output: [1, 3]"
   ]
  },
  {
   "cell_type": "markdown",
   "metadata": {},
   "source": [
    "*Exercise 6:* The `inrange(mymin,mymax)` function below returns a function that tests if it's input is between the specified values. Write corresponding functions that test:\n",
    "* Even\n",
    "* Odd\n",
    "* Greater than\n",
    "* Less than\n",
    "* Equal\n",
    "* Divisible by"
   ]
  },
  {
   "cell_type": "code",
   "execution_count": 76,
   "metadata": {},
   "outputs": [
    {
     "name": "stdout",
     "output_type": "stream",
     "text": [
      "True True False False False\n",
      "False False True True False\n",
      "True False True\n",
      "False True False\n",
      "False True\n",
      "True False\n",
      "True False\n",
      "True False\n",
      "Number of Entries passing F1: 247\n",
      "Number of Entries passing F2: 276\n",
      "Number of Entries passing F3: 0\n",
      "Number of Entries passing F4: 1000\n",
      "Number of Entries passing F5: 368\n",
      "Number of Entries passing F6: 369\n",
      "Number of Entries passing F7: 0\n",
      "Number of Entries passing F8: 0\n"
     ]
    }
   ],
   "source": [
    "def in_range(mymin, mymax):\n",
    "    def testrange(x):\n",
    "        return x < mymax and x >= mymin\n",
    "    return testrange\n",
    "\n",
    "def is_even():\n",
    "    def test_even(x):\n",
    "        return x % 2 == 0\n",
    "    return test_even\n",
    "\n",
    "def is_odd():\n",
    "    def test_odd(x):\n",
    "        return x % 2 != 0\n",
    "    return test_odd\n",
    "\n",
    "def is_greater_than(minimum):\n",
    "    def test_greater(x):\n",
    "        return x > minimum\n",
    "    return test_greater\n",
    "\n",
    "def is_less_than(maximum):\n",
    "    def test_less(x):\n",
    "        return x < maximum\n",
    "    return test_less\n",
    "\n",
    "def is_equal_to(value):\n",
    "    def test_equal(x):\n",
    "        return x == value\n",
    "    return test_equal\n",
    "\n",
    "def is_divisible_by(divisor):\n",
    "    def test_divisible(x):\n",
    "        return x % divisor == 0\n",
    "    return test_divisible\n",
    "\n",
    "# Function to filter data based on a condition\n",
    "def where(data, condition):\n",
    "    return [x for x in data if condition(x)]\n",
    "\n",
    "# Examples:\n",
    "F1 = in_range(0, 10)\n",
    "F2 = in_range(10, 20)\n",
    "F3 = is_even()\n",
    "F4 = is_odd()\n",
    "F5 = is_greater_than(15)\n",
    "F6 = is_less_than(5)\n",
    "F7 = is_equal_to(7)\n",
    "F8 = is_divisible_by(3)\n",
    "\n",
    "# Test of in_range and other functions\n",
    "print(F1(0), F1(1), F1(10), F1(15), F1(20))\n",
    "print(F2(0), F2(1), F2(10), F2(15), F2(20))\n",
    "print(F3(2), F3(3), F3(4))\n",
    "print(F4(2), F4(3), F4(4))\n",
    "print(F5(10), F5(20))\n",
    "print(F6(3), F6(7))\n",
    "print(F7(7), F7(8))\n",
    "print(F8(9), F8(10))\n",
    "\n",
    "# Generate some data for testing\n",
    "data = generate_uniform(1000, -10, 30)\n",
    "\n",
    "print(\"Number of Entries passing F1:\", len(where(data, F1)))\n",
    "print(\"Number of Entries passing F2:\", len(where(data, F2)))\n",
    "print(\"Number of Entries passing F3:\", len(where(data, F3)))\n",
    "print(\"Number of Entries passing F4:\", len(where(data, F4)))\n",
    "print(\"Number of Entries passing F5:\", len(where(data, F5)))\n",
    "print(\"Number of Entries passing F6:\", len(where(data, F6)))\n",
    "print(\"Number of Entries passing F7:\", len(where(data, F7)))\n",
    "print(\"Number of Entries passing F8:\", len(where(data, F8)))\n"
   ]
  },
  {
   "cell_type": "markdown",
   "metadata": {},
   "source": [
    "*Exercise 7:* Repeat the previous exercise using `lambda` and the built-in python functions sum and map instead of your solution above. "
   ]
  },
  {
   "cell_type": "code",
   "execution_count": 77,
   "metadata": {},
   "outputs": [
    {
     "name": "stdout",
     "output_type": "stream",
     "text": [
      "True True False False False\n",
      "False False True True False\n",
      "True False True\n",
      "False True False\n",
      "False True\n",
      "True False\n",
      "True False\n",
      "True False\n",
      "Number of Entries passing F1: 243\n",
      "Number of Entries passing F2: 241\n",
      "Number of Entries passing F3: 0\n",
      "Number of Entries passing F4: 1000\n",
      "Number of Entries passing F5: 373\n",
      "Number of Entries passing F6: 375\n",
      "Number of Entries passing F7: 0\n",
      "Number of Entries passing F8: 0\n"
     ]
    }
   ],
   "source": [
    "import random\n",
    "\n",
    "def generate_uniform(N, x_min, x_max):\n",
    "    return [random.uniform(x_min, x_max) for _ in range(N)]\n",
    "\n",
    "# Using lambda functions and built-in functions sum and map\n",
    "in_range = lambda mymin, mymax: lambda x: x < mymax and x >= mymin\n",
    "is_even = lambda: lambda x: x % 2 == 0\n",
    "is_odd = lambda: lambda x: x % 2 != 0\n",
    "is_greater_than = lambda minimum: lambda x: x > minimum\n",
    "is_less_than = lambda maximum: lambda x: x < maximum\n",
    "is_equal_to = lambda value: lambda x: x == value\n",
    "is_divisible_by = lambda divisor: lambda x: x % divisor == 0\n",
    "\n",
    "# Examples:\n",
    "F1 = in_range(0, 10)\n",
    "F2 = in_range(10, 20)\n",
    "F3 = is_even()\n",
    "F4 = is_odd()\n",
    "F5 = is_greater_than(15)\n",
    "F6 = is_less_than(5)\n",
    "F7 = is_equal_to(7)\n",
    "F8 = is_divisible_by(3)\n",
    "\n",
    "# Test of in_range and other functions\n",
    "print(F1(0), F1(1), F1(10), F1(15), F1(20))\n",
    "print(F2(0), F2(1), F2(10), F2(15), F2(20))\n",
    "print(F3(2), F3(3), F3(4))\n",
    "print(F4(2), F4(3), F4(4))\n",
    "print(F5(10), F5(20))\n",
    "print(F6(3), F6(7))\n",
    "print(F7(7), F7(8))\n",
    "print(F8(9), F8(10))\n",
    "\n",
    "# Generate some data for testing\n",
    "data = generate_uniform(1000, -10, 30)\n",
    "\n",
    "print(\"Number of Entries passing F1:\", sum(map(F1, data)))\n",
    "print(\"Number of Entries passing F2:\", sum(map(F2, data)))\n",
    "print(\"Number of Entries passing F3:\", sum(map(F3, data)))\n",
    "print(\"Number of Entries passing F4:\", sum(map(F4, data)))\n",
    "print(\"Number of Entries passing F5:\", sum(map(F5, data)))\n",
    "print(\"Number of Entries passing F6:\", sum(map(F6, data)))\n",
    "print(\"Number of Entries passing F7:\", sum(map(F7, data)))\n",
    "print(\"Number of Entries passing F8:\", sum(map(F8, data)))"
   ]
  },
  {
   "cell_type": "markdown",
   "metadata": {},
   "source": [
    "## Monte Carlo\n",
    "\n",
    "*Exercise 7:* Write a \"generator\" function called `generate_function(func,x_min,x_max,N)`, that instead of generating a flat distribution, generates a distribution with functional form coded in `func`. Note that `func` will always be > 0.  \n",
    "\n",
    "Use the test function below and your histogramming functions above to demonstrate that your generator is working properly.\n",
    "\n",
    "Hint: A simple, but slow, solution is to a draw random number `test_x` within the specified range and another number `p` between the `min` and `max` of the function (which you will have to determine). If `p<=function(test_x)`, then place `test_x` on the output. If not, repeat the process, drawing two new numbers. Repeat until you have the specified number of generated numbers, `N`. For this problem, it's OK to determine the `min` and `max` by numerically sampling the function.  "
   ]
  },
  {
   "cell_type": "code",
   "execution_count": 78,
   "metadata": {},
   "outputs": [],
   "source": [
    "def generate_function(func,x_min,x_max,N=1000):\n",
    "    out = list()\n",
    "    ### BEGIN SOLUTION\n",
    "\n",
    "\n",
    "    # Determine the range of the function by sampling\n",
    "    sample_points = 1000\n",
    "    x_values = [random.uniform(x_min, x_max) for _ in range(sample_points)]\n",
    "    y_values = [func(x) for x in x_values]\n",
    "    y_min = min(y_values)\n",
    "    y_max = max(y_values)\n",
    "\n",
    "    while len(out) < N:\n",
    "        test_x = random.uniform(x_min, x_max)\n",
    "        p = random.uniform(y_min, y_max)\n",
    "        if p <= func(test_x):\n",
    "            out.append(test_x)\n",
    "\n",
    "    return out"
   ]
  },
  {
   "cell_type": "code",
   "execution_count": 79,
   "metadata": {},
   "outputs": [
    {
     "name": "stdout",
     "output_type": "stream",
     "text": [
      "[3.764347570466854, 1.3014471749737622, 8.85659977162263, 9.915249046249727, 9.725497518138805, 5.531274969609406, 7.024975418175449, 5.411582294735812, 5.618737098576597, 6.822263179650394]\n"
     ]
    }
   ],
   "source": [
    "# A test function\n",
    "def test_func(x,a=1,b=1):\n",
    "    return abs(a*x+b)\n",
    "\n",
    "# Generate data using the test function\n",
    "data = generate_function(test_func, 0, 10, 1000)\n",
    "\n",
    "# Print some of the generated data\n",
    "print(data[:10])"
   ]
  },
  {
   "cell_type": "markdown",
   "metadata": {},
   "source": [
    "*Exercise 8:* Use your function to generate 1000 numbers that are normal distributed, using the `gaussian` function below. Confirm the mean and variance of the data is close to the mean and variance you specify when building the Gaussian. Histogram the data. "
   ]
  },
  {
   "cell_type": "code",
   "execution_count": 80,
   "metadata": {},
   "outputs": [
    {
     "name": "stdout",
     "output_type": "stream",
     "text": [
      "Mean of g1: 0.0035566959032099646, Variance of g1: 0.9612003554617679\n",
      "Mean of g2: 10.047924808011214, Variance of g2: 8.73676387792596\n"
     ]
    },
    {
     "data": {
      "image/png": "[encoded data removed]",
      "text/plain": [
       "<Figure size 640x480 with 1 Axes>"
      ]
     },
     "metadata": {},
     "output_type": "display_data"
    }
   ],
   "source": [
    "\n",
    "import matplotlib.pyplot as plt\n",
    "\n",
    "def generate_function(func, x_min, x_max, N=1000):\n",
    "    out = []\n",
    "\n",
    "    # Determine the range of the function by sampling\n",
    "    sample_points = 1000\n",
    "    x_values = [random.uniform(x_min, x_max) for _ in range(sample_points)]\n",
    "    y_values = [func(x) for x in x_values]\n",
    "    y_min = min(y_values)\n",
    "    y_max = max(y_values)\n",
    "\n",
    "    while len(out) < N:\n",
    "        test_x = random.uniform(x_min, x_max)\n",
    "        p = random.uniform(y_min, y_max)\n",
    "        if p <= func(test_x):\n",
    "            out.append(test_x)\n",
    "\n",
    "    return out\n",
    "\n",
    "def gaussian(mean, sigma):\n",
    "    def f(x):\n",
    "        return math.exp(-((x - mean)**2) / (2 * sigma**2)) / (math.sqrt(2 * math.pi) * sigma)\n",
    "    return f\n",
    "\n",
    "# Example Instantiation\n",
    "g1 = gaussian(0, 1)\n",
    "g2 = gaussian(10, 3)\n",
    "\n",
    "# Generate data using the Gaussian function\n",
    "data_g1 = generate_function(g1, -5, 5, 1000)\n",
    "data_g2 = generate_function(g2, 0, 20, 1000)\n",
    "\n",
    "# Confirm the mean and variance of the data\n",
    "mean_g1 = sum(data_g1) / len(data_g1)\n",
    "variance_g1 = sum((x - mean_g1)**2 for x in data_g1) / len(data_g1)\n",
    "\n",
    "mean_g2 = sum(data_g2) / len(data_g2)\n",
    "variance_g2 = sum((x - mean_g2)**2 for x in data_g2) / len(data_g2)\n",
    "\n",
    "print(f\"Mean of g1: {mean_g1}, Variance of g1: {variance_g1}\")\n",
    "print(f\"Mean of g2: {mean_g2}, Variance of g2: {variance_g2}\")\n",
    "\n",
    "# Histogram the data\n",
    "plt.hist(data_g1, bins=30, alpha=0.5, label='g1: mean=0, sigma=1')\n",
    "plt.hist(data_g2, bins=30, alpha=0.5, label='g2: mean=10, sigma=3')\n",
    "plt.legend(loc='upper right')\n",
    "plt.xlabel('Value')\n",
    "plt.ylabel('Frequency')\n",
    "plt.title('Histogram of Generated Gaussian Data')\n",
    "plt.show()\n"
   ]
  },
  {
   "cell_type": "markdown",
   "metadata": {},
   "source": [
    "*Exercise 9:* Combine your `generate_function`, `where`, and `in_range` functions above to create an integrate function. Use your integrate function to show that approximately 68% of Normal distribution is within one variance."
   ]
  },
  {
   "cell_type": "code",
   "execution_count": 81,
   "metadata": {},
   "outputs": [
    {
     "name": "stdout",
     "output_type": "stream",
     "text": [
      "Percentage of data within one standard deviation: 66.10000000000001%\n",
      "Integral within one standard deviation: -0.035873678486212264\n"
     ]
    }
   ],
   "source": [
    "def generate_function(func, x_min, x_max, N=1000):\n",
    "    out = []\n",
    "\n",
    "    # Determine the range of the function by sampling\n",
    "    sample_points = 1000\n",
    "    x_values = [random.uniform(x_min, x_max) for _ in range(sample_points)]\n",
    "    y_values = [func(x) for x in x_values]\n",
    "    y_min = min(y_values)\n",
    "    y_max = max(y_values)\n",
    "\n",
    "    while len(out) < N:\n",
    "        test_x = random.uniform(x_min, x_max)\n",
    "        p = random.uniform(y_min, y_max)\n",
    "        if p <= func(test_x):\n",
    "            out.append(test_x)\n",
    "\n",
    "    return out\n",
    "\n",
    "def in_range(mymin, mymax):\n",
    "    def testrange(x):\n",
    "        return x < mymax and x >= mymin\n",
    "    return testrange\n",
    "\n",
    "def where(data, condition):\n",
    "    return [x for x in data if condition(x)]\n",
    "\n",
    "def integrate(func, x_min, x_max, n_points=1000):\n",
    "    data = generate_function(func, x_min, x_max, n_points)\n",
    "    integral = sum(data) / len(data)\n",
    "    return integral\n",
    "\n",
    "def gaussian(mean, sigma):\n",
    "    def f(x):\n",
    "        return math.exp(-((x - mean)**2) / (2 * sigma**2)) / (math.sqrt(2 * math.pi) * sigma)\n",
    "    return f\n",
    "\n",
    "# Example Instantiation\n",
    "g1 = gaussian(0, 1)\n",
    "\n",
    "# Generate data using the Gaussian function\n",
    "data_g1 = generate_function(g1, -5, 5, 1000)\n",
    "\n",
    "# Define the range within one standard deviation\n",
    "range_within_one_sigma = in_range(-1, 1)\n",
    "\n",
    "# Filter the data within one standard deviation\n",
    "data_within_one_sigma = where(data_g1, range_within_one_sigma)\n",
    "\n",
    "# Calculate the percentage of data within one standard deviation\n",
    "percentage_within_one_sigma = len(data_within_one_sigma) / len(data_g1) * 100\n",
    "\n",
    "print(f\"Percentage of data within one standard deviation: {percentage_within_one_sigma}%\")\n",
    "\n",
    "# Use the integrate function to show that approximately 68% of Normal distribution is within one variance\n",
    "integral_within_one_sigma = integrate(g1, -1, 1)\n",
    "print(f\"Integral within one standard deviation: {integral_within_one_sigma}\")\n"
   ]
  },
  {
   "cell_type": "code",
   "execution_count": null,
   "metadata": {},
   "outputs": [],
   "source": []
  }
 ],
 "metadata": {
  "kernelspec": {
   "display_name": "Python 3 (ipykernel)",
   "language": "python",
   "name": "python3"
  },
  "language_info": {
   "codemirror_mode": {
    "name": "ipython",
    "version": 3
   },
   "file_extension": ".py",
   "mimetype": "text/x-python",
   "name": "python",
   "nbconvert_exporter": "python",
   "pygments_lexer": "ipython3",
   "version": "3.10.12"
  }
 },
 "nbformat": 4,
 "nbformat_minor": 4
}
